{
 "cells": [
  {
   "cell_type": "code",
   "execution_count": 1,
   "metadata": {},
   "outputs": [],
   "source": [
    "import json\n",
    "import requests\n",
    "import pandas as pd\n",
    "from bs4 import BeautifulSoup\n",
    "from datetime import datetime"
   ]
  },
  {
   "cell_type": "code",
   "execution_count": 7,
   "metadata": {},
   "outputs": [],
   "source": [
    "# Function to make the API request\n",
    "def fetch_reddit_data(subreddit, min_score, after, before, size, sort_type, headers):\n",
    "    url = f\"https://api.pullpush.io/reddit/search/submission/?subreddit={subreddit}&size={size}&after={after}&before={before}&sort_type={sort_type}\"\n",
    "    try:\n",
    "        response = requests.get(url, headers=headers)\n",
    "        response.raise_for_status()\n",
    "        return response.json()  # Parse JSON data\n",
    "    except requests.exceptions.RequestException as e:\n",
    "        print(f\"Request failed: {e}\")\n",
    "        return None"
   ]
  },
  {
   "cell_type": "code",
   "execution_count": 8,
   "metadata": {},
   "outputs": [],
   "source": [
    "# Function to process the API data\n",
    "def process_reddit_data(data, category, subreddit):\n",
    "    posts = []\n",
    "    for submission in data.get('data', []):\n",
    "        if not submission.get('over_18', False) and submission.get('is_self', False):\n",
    "            post = {\n",
    "                'title': submission['title'],\n",
    "                'content': submission['selftext'],\n",
    "                'time': submission.get('time', ''),\n",
    "                'category': category,\n",
    "                'subreddit': subreddit,\n",
    "                'score': submission['score'],\n",
    "                'upvote_ratio': submission.get('upvote_ratio', '')\n",
    "            }\n",
    "            print(f\"{submission['title']}\")\n",
    "            posts.append(post)\n",
    "    return posts\n",
    "\n",
    "# Main configuration\n",
    "subreddit = \"subsimulatorgpt2\"\n",
    "min_score = 1\n",
    "size = 100\n",
    "sort_type = \"score\"\n",
    "category = \"imposter_content\"\n",
    "headers = {\n",
    "    'User-Agent': 'Mozilla/5.0 (Windows NT 10.0; Win64; x64) AppleWebKit/537.36 (KHTML, like Gecko) Chrome/91.0.4472.124 Safari/537.36'\n",
    "}"
   ]
  },
  {
   "cell_type": "code",
   "execution_count": null,
   "metadata": {},
   "outputs": [],
   "source": [
    "# Date range configuration\n",
    "after = int(datetime(2023, 1, 1, 12, 0, 0).timestamp())\n",
    "before = int(datetime(2024, 1, 1, 12, 0, 0).timestamp())\n",
    "\n",
    "# Fetch and process data\n",
    "data = fetch_reddit_data(subreddit, min_score, after, before, size, sort_type, headers)\n",
    "if data:\n",
    "    processed_data = process_reddit_data(data, category, subreddit)\n",
    "    \n",
    "    # Save to DataFrame and CSV\n",
    "    df = pd.DataFrame(processed_data)\n",
    "    df.insert(0, 'index', range(1, len(df) + 1))\n",
    "    df.to_csv(f'./imposter_content_{subreddit}_6.csv', index=False)"
   ]
  }
 ],
 "metadata": {
  "kernelspec": {
   "display_name": "weather-app",
   "language": "python",
   "name": "python3"
  },
  "language_info": {
   "codemirror_mode": {
    "name": "ipython",
    "version": 3
   },
   "file_extension": ".py",
   "mimetype": "text/x-python",
   "name": "python",
   "nbconvert_exporter": "python",
   "pygments_lexer": "ipython3",
   "version": "3.11.7"
  }
 },
 "nbformat": 4,
 "nbformat_minor": 2
}
